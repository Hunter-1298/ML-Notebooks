{
 "cells": [
  {
   "cell_type": "markdown",
   "metadata": {},
   "source": [
    "# Makemore Recreation\n",
    "This notebook is a recreation of the Makemore project by Andrej Karpathy. This project aims to process character-level data and generate outputs that closely mimic the input, enabling the model to learn patterns from names and produce new, similar names as a result.\n"
   ]
  },
  {
   "cell_type": "code",
   "execution_count": 4,
   "metadata": {},
   "outputs": [
    {
     "name": "stdout",
     "output_type": "stream",
     "text": [
      "Total names: 32033\n",
      "Minimum name length: 2\n",
      "Maximum name length: 15\n"
     ]
    }
   ],
   "source": [
    "names = open('resources/makemore/names.txt','r').read().splitlines()\n",
    "print(f\"Total names: {len(names)}\")\n",
    "print(f\"Minimum name length: {min(len(w) for w in names)}\")\n",
    "print(f\"Maximum name length: {max(len(w) for w in names)}\")\n",
    " \n"
   ]
  },
  {
   "cell_type": "code",
   "execution_count": null,
   "metadata": {},
   "outputs": [],
   "source": []
  },
  {
   "cell_type": "code",
   "execution_count": null,
   "metadata": {},
   "outputs": [],
   "source": []
  }
 ],
 "metadata": {
  "kernelspec": {
   "display_name": "Python 3",
   "language": "python",
   "name": "python3"
  },
  "language_info": {
   "codemirror_mode": {
    "name": "ipython",
    "version": 3
   },
   "file_extension": ".py",
   "mimetype": "text/x-python",
   "name": "python",
   "nbconvert_exporter": "python",
   "pygments_lexer": "ipython3",
   "version": "3.10.12"
  }
 },
 "nbformat": 4,
 "nbformat_minor": 2
}
